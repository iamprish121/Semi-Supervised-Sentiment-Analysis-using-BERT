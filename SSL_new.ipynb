{
  "nbformat": 4,
  "nbformat_minor": 0,
  "metadata": {
    "colab": {
      "provenance": [],
      "gpuType": "T4"
    },
    "kernelspec": {
      "name": "python3",
      "display_name": "Python 3"
    },
    "language_info": {
      "name": "python"
    },
    "accelerator": "GPU"
  },
  "cells": [
    {
      "cell_type": "markdown",
      "source": [
        "****Self-supervised contextual data augmentation for natural language processing (NLP)****"
      ],
      "metadata": {
        "id": "ifwOiNIfH1rQ"
      }
    },
    {
      "cell_type": "markdown",
      "source": [
        "**Problem Statement:** The challenge of effectively augmenting data in Natural Language Processing (NLP) tasks to improve model performance, particularly when data is limited or imbalanced.\n",
        "\n",
        "**What:** A self-supervised contextual data augmentation method that enhances data with contextual relevance by employing a Label-Masked Language Model (LMLM). This approach helps generate new data that maintains contextual consistency, improving the performance of neural network models for text classification.\n",
        "\n",
        "**Why:**\n",
        "The motivation for this method stems from the limitations of existing data augmentation techniques in NLP:\n",
        "\n",
        "Discrete Nature of Text: Unlike continuous data (e.g., images), text data cannot be easily transformed using basic operations like rotation or scaling.\n",
        "Contextual Integrity: Simple word replacement with synonyms often fails to preserve the original context, potentially harming model accuracy.\n"
      ],
      "metadata": {
        "id": "555zLHu9Hts4"
      }
    },
    {
      "cell_type": "code",
      "source": [
        "!pip install datasets"
      ],
      "metadata": {
        "id": "QX4QZFjA2lRC",
        "colab": {
          "base_uri": "https://localhost:8080/"
        },
        "collapsed": true,
        "outputId": "2b64f92a-db29-4d9a-fdb4-0906a8fcf967"
      },
      "execution_count": null,
      "outputs": [
        {
          "output_type": "stream",
          "name": "stdout",
          "text": [
            "Collecting datasets\n",
            "  Downloading datasets-3.1.0-py3-none-any.whl.metadata (20 kB)\n",
            "Requirement already satisfied: filelock in /usr/local/lib/python3.10/dist-packages (from datasets) (3.16.1)\n",
            "Requirement already satisfied: numpy>=1.17 in /usr/local/lib/python3.10/dist-packages (from datasets) (1.26.4)\n",
            "Requirement already satisfied: pyarrow>=15.0.0 in /usr/local/lib/python3.10/dist-packages (from datasets) (17.0.0)\n",
            "Collecting dill<0.3.9,>=0.3.0 (from datasets)\n",
            "  Downloading dill-0.3.8-py3-none-any.whl.metadata (10 kB)\n",
            "Requirement already satisfied: pandas in /usr/local/lib/python3.10/dist-packages (from datasets) (2.2.2)\n",
            "Requirement already satisfied: requests>=2.32.2 in /usr/local/lib/python3.10/dist-packages (from datasets) (2.32.3)\n",
            "Requirement already satisfied: tqdm>=4.66.3 in /usr/local/lib/python3.10/dist-packages (from datasets) (4.66.6)\n",
            "Collecting xxhash (from datasets)\n",
            "  Downloading xxhash-3.5.0-cp310-cp310-manylinux_2_17_x86_64.manylinux2014_x86_64.whl.metadata (12 kB)\n",
            "Collecting multiprocess<0.70.17 (from datasets)\n",
            "  Downloading multiprocess-0.70.16-py310-none-any.whl.metadata (7.2 kB)\n",
            "Collecting fsspec<=2024.9.0,>=2023.1.0 (from fsspec[http]<=2024.9.0,>=2023.1.0->datasets)\n",
            "  Downloading fsspec-2024.9.0-py3-none-any.whl.metadata (11 kB)\n",
            "Requirement already satisfied: aiohttp in /usr/local/lib/python3.10/dist-packages (from datasets) (3.10.10)\n",
            "Requirement already satisfied: huggingface-hub>=0.23.0 in /usr/local/lib/python3.10/dist-packages (from datasets) (0.24.7)\n",
            "Requirement already satisfied: packaging in /usr/local/lib/python3.10/dist-packages (from datasets) (24.1)\n",
            "Requirement already satisfied: pyyaml>=5.1 in /usr/local/lib/python3.10/dist-packages (from datasets) (6.0.2)\n",
            "Requirement already satisfied: aiohappyeyeballs>=2.3.0 in /usr/local/lib/python3.10/dist-packages (from aiohttp->datasets) (2.4.3)\n",
            "Requirement already satisfied: aiosignal>=1.1.2 in /usr/local/lib/python3.10/dist-packages (from aiohttp->datasets) (1.3.1)\n",
            "Requirement already satisfied: attrs>=17.3.0 in /usr/local/lib/python3.10/dist-packages (from aiohttp->datasets) (24.2.0)\n",
            "Requirement already satisfied: frozenlist>=1.1.1 in /usr/local/lib/python3.10/dist-packages (from aiohttp->datasets) (1.5.0)\n",
            "Requirement already satisfied: multidict<7.0,>=4.5 in /usr/local/lib/python3.10/dist-packages (from aiohttp->datasets) (6.1.0)\n",
            "Requirement already satisfied: yarl<2.0,>=1.12.0 in /usr/local/lib/python3.10/dist-packages (from aiohttp->datasets) (1.17.1)\n",
            "Requirement already satisfied: async-timeout<5.0,>=4.0 in /usr/local/lib/python3.10/dist-packages (from aiohttp->datasets) (4.0.3)\n",
            "Requirement already satisfied: typing-extensions>=3.7.4.3 in /usr/local/lib/python3.10/dist-packages (from huggingface-hub>=0.23.0->datasets) (4.12.2)\n",
            "Requirement already satisfied: charset-normalizer<4,>=2 in /usr/local/lib/python3.10/dist-packages (from requests>=2.32.2->datasets) (3.4.0)\n",
            "Requirement already satisfied: idna<4,>=2.5 in /usr/local/lib/python3.10/dist-packages (from requests>=2.32.2->datasets) (3.10)\n",
            "Requirement already satisfied: urllib3<3,>=1.21.1 in /usr/local/lib/python3.10/dist-packages (from requests>=2.32.2->datasets) (2.2.3)\n",
            "Requirement already satisfied: certifi>=2017.4.17 in /usr/local/lib/python3.10/dist-packages (from requests>=2.32.2->datasets) (2024.8.30)\n",
            "Requirement already satisfied: python-dateutil>=2.8.2 in /usr/local/lib/python3.10/dist-packages (from pandas->datasets) (2.8.2)\n",
            "Requirement already satisfied: pytz>=2020.1 in /usr/local/lib/python3.10/dist-packages (from pandas->datasets) (2024.2)\n",
            "Requirement already satisfied: tzdata>=2022.7 in /usr/local/lib/python3.10/dist-packages (from pandas->datasets) (2024.2)\n",
            "Requirement already satisfied: six>=1.5 in /usr/local/lib/python3.10/dist-packages (from python-dateutil>=2.8.2->pandas->datasets) (1.16.0)\n",
            "Requirement already satisfied: propcache>=0.2.0 in /usr/local/lib/python3.10/dist-packages (from yarl<2.0,>=1.12.0->aiohttp->datasets) (0.2.0)\n",
            "Downloading datasets-3.1.0-py3-none-any.whl (480 kB)\n",
            "\u001b[2K   \u001b[90m━━━━━━━━━━━━━━━━━━━━━━━━━━━━━━━━━━━━━━━━\u001b[0m \u001b[32m480.6/480.6 kB\u001b[0m \u001b[31m20.4 MB/s\u001b[0m eta \u001b[36m0:00:00\u001b[0m\n",
            "\u001b[?25hDownloading dill-0.3.8-py3-none-any.whl (116 kB)\n",
            "\u001b[2K   \u001b[90m━━━━━━━━━━━━━━━━━━━━━━━━━━━━━━━━━━━━━━━━\u001b[0m \u001b[32m116.3/116.3 kB\u001b[0m \u001b[31m11.5 MB/s\u001b[0m eta \u001b[36m0:00:00\u001b[0m\n",
            "\u001b[?25hDownloading fsspec-2024.9.0-py3-none-any.whl (179 kB)\n",
            "\u001b[2K   \u001b[90m━━━━━━━━━━━━━━━━━━━━━━━━━━━━━━━━━━━━━━━━\u001b[0m \u001b[32m179.3/179.3 kB\u001b[0m \u001b[31m15.5 MB/s\u001b[0m eta \u001b[36m0:00:00\u001b[0m\n",
            "\u001b[?25hDownloading multiprocess-0.70.16-py310-none-any.whl (134 kB)\n",
            "\u001b[2K   \u001b[90m━━━━━━━━━━━━━━━━━━━━━━━━━━━━━━━━━━━━━━━━\u001b[0m \u001b[32m134.8/134.8 kB\u001b[0m \u001b[31m9.2 MB/s\u001b[0m eta \u001b[36m0:00:00\u001b[0m\n",
            "\u001b[?25hDownloading xxhash-3.5.0-cp310-cp310-manylinux_2_17_x86_64.manylinux2014_x86_64.whl (194 kB)\n",
            "\u001b[2K   \u001b[90m━━━━━━━━━━━━━━━━━━━━━━━━━━━━━━━━━━━━━━━━\u001b[0m \u001b[32m194.1/194.1 kB\u001b[0m \u001b[31m16.6 MB/s\u001b[0m eta \u001b[36m0:00:00\u001b[0m\n",
            "\u001b[?25hInstalling collected packages: xxhash, fsspec, dill, multiprocess, datasets\n",
            "  Attempting uninstall: fsspec\n",
            "    Found existing installation: fsspec 2024.10.0\n",
            "    Uninstalling fsspec-2024.10.0:\n",
            "      Successfully uninstalled fsspec-2024.10.0\n",
            "\u001b[31mERROR: pip's dependency resolver does not currently take into account all the packages that are installed. This behaviour is the source of the following dependency conflicts.\n",
            "gcsfs 2024.10.0 requires fsspec==2024.10.0, but you have fsspec 2024.9.0 which is incompatible.\u001b[0m\u001b[31m\n",
            "\u001b[0mSuccessfully installed datasets-3.1.0 dill-0.3.8 fsspec-2024.9.0 multiprocess-0.70.16 xxhash-3.5.0\n"
          ]
        }
      ]
    },
    {
      "cell_type": "code",
      "execution_count": null,
      "metadata": {
        "colab": {
          "base_uri": "https://localhost:8080/",
          "height": 559
        },
        "id": "JhgVvMkb1t19",
        "outputId": "eeb5da55-bf88-4ab8-9d82-ab862913543e"
      },
      "outputs": [
        {
          "output_type": "stream",
          "name": "stdout",
          "text": [
            "Using device: cuda\n"
          ]
        },
        {
          "output_type": "stream",
          "name": "stderr",
          "text": [
            "/usr/local/lib/python3.10/dist-packages/transformers/tokenization_utils_base.py:1601: FutureWarning: `clean_up_tokenization_spaces` was not set. It will be set to `True` by default. This behavior will be depracted in transformers v4.45, and will be then set to `False` by default. For more details check this issue: https://github.com/huggingface/transformers/issues/31884\n",
            "  warnings.warn(\n"
          ]
        },
        {
          "output_type": "stream",
          "name": "stdout",
          "text": [
            "Loaded 2000 instances from SST2.\n",
            "Label Distribution: [879, 1121]\n"
          ]
        },
        {
          "output_type": "display_data",
          "data": {
            "text/plain": [
              "<Figure size 640x480 with 1 Axes>"
            ],
            "image/png": "[encoded data removed]"
          },
          "metadata": {}
        }
      ],
      "source": [
        "import torch\n",
        "from transformers import BertTokenizer\n",
        "import matplotlib.pyplot as plt\n",
        "from datasets import load_dataset\n",
        "import torch\n",
        "from transformers import BertTokenizer\n",
        "\n",
        "device = torch.device(\"cuda\" if torch.cuda.is_available() else \"cpu\")\n",
        "print(f\"Using device: {device}\")\n",
        "\n",
        "bert_tokenizer = BertTokenizer.from_pretrained(\"bert-base-uncased\")\n",
        "\n",
        "# Load the SST2 dataset\n",
        "from datasets import load_dataset\n",
        "dataset = load_dataset(\"glue\", \"sst2\")\n",
        "\n",
        "# Sample the first 500 instances\n",
        "train_data = dataset[\"train\"].shuffle(seed=42).select(range(2000))\n",
        "texts = train_data[\"sentence\"]\n",
        "labels = train_data[\"label\"]\n",
        "\n",
        "labels_tensor = torch.tensor(labels).to(device)\n",
        "\n",
        "\n",
        "print(f\"Loaded {len(texts)} instances from SST2.\")\n",
        "print(\"Label Distribution:\", torch.bincount(labels_tensor).tolist())\n",
        "\n",
        "plt.bar([\"Negative\", \"Positive\"], torch.bincount(labels_tensor).tolist(), color=['salmon', 'lightgreen'])\n",
        "plt.title(\"Label Distribution in SST2 Dataset (500 Instances)\")\n",
        "plt.show()"
      ]
    },
    {
      "cell_type": "markdown",
      "source": [],
      "metadata": {
        "id": "7JEjqJQ6Hmfr"
      }
    },
    {
      "cell_type": "code",
      "source": [
        "from transformers import BertForMaskedLM\n",
        "\n",
        "class LMLM(torch.nn.Module):\n",
        "    def __init__(self, model_name=\"bert-base-uncased\"):\n",
        "        super(LMLM, self).__init__()\n",
        "        self.model = BertForMaskedLM.from_pretrained(model_name).to(device)\n",
        "\n",
        "    def forward(self, input_ids, attention_mask):\n",
        "        input_ids = input_ids.to(device)\n",
        "        attention_mask = attention_mask.to(device)\n",
        "        outputs = self.model(input_ids=input_ids, attention_mask=attention_mask)\n",
        "        return outputs.logits\n",
        "\n",
        "lmlm_model = LMLM()\n",
        "lmlm_model.to(device)\n",
        "print(\"Label-Masked Language Model (LMLM) initialized.\")"
      ],
      "metadata": {
        "colab": {
          "base_uri": "https://localhost:8080/"
        },
        "id": "whLx71N915vg",
        "outputId": "a43ffd68-c064-4835-e81d-545653645f53"
      },
      "execution_count": null,
      "outputs": [
        {
          "output_type": "stream",
          "name": "stderr",
          "text": [
            "Some weights of the model checkpoint at bert-base-uncased were not used when initializing BertForMaskedLM: ['bert.pooler.dense.bias', 'bert.pooler.dense.weight', 'cls.seq_relationship.bias', 'cls.seq_relationship.weight']\n",
            "- This IS expected if you are initializing BertForMaskedLM from the checkpoint of a model trained on another task or with another architecture (e.g. initializing a BertForSequenceClassification model from a BertForPreTraining model).\n",
            "- This IS NOT expected if you are initializing BertForMaskedLM from the checkpoint of a model that you expect to be exactly identical (initializing a BertForSequenceClassification model from a BertForSequenceClassification model).\n"
          ]
        },
        {
          "output_type": "stream",
          "name": "stdout",
          "text": [
            "Label-Masked Language Model (LMLM) initialized.\n"
          ]
        }
      ]
    },
    {
      "cell_type": "code",
      "source": [
        "import random\n",
        "from tqdm import tqdm\n",
        "\n",
        "def preprocess_text(text):\n",
        "    return bert_tokenizer(text, padding=\"max_length\", truncation=True, max_length=50, return_tensors=\"pt\").to(device)\n",
        "\n",
        "def mask_sentence(input_ids, label, mask_probability=0.15):\n",
        "    mask_token_id = bert_tokenizer.mask_token_id\n",
        "    input_ids = input_ids.clone().to(device)\n",
        "    num_tokens = len(input_ids)\n",
        "    mask_indices = random.sample(range(1, num_tokens - 1), int(mask_probability * num_tokens))\n",
        "    for idx in mask_indices:\n",
        "        input_ids[idx] = mask_token_id\n",
        "    return input_ids\n",
        "\n",
        "def augment_data(texts, labels, lmlm_model, mask_probability=0.15, top_k=3):\n",
        "    lmlm_model.eval()\n",
        "    augmented_texts = []\n",
        "\n",
        "    print(\"Augmenting data...\")\n",
        "    with torch.no_grad():\n",
        "        for text, label in tqdm(zip(texts, labels), total=len(texts)):\n",
        "            # Preprocess text\n",
        "            inputs = preprocess_text(text)\n",
        "            masked_input_ids = mask_sentence(inputs['input_ids'][0], label, mask_probability)\n",
        "            inputs['input_ids'][0] = masked_input_ids\n",
        "\n",
        "\n",
        "            masked_input_ids = masked_input_ids.to(device)\n",
        "            attention_mask = inputs['attention_mask'].to(device)\n",
        "\n",
        "            # Prediction\n",
        "            outputs = lmlm_model(masked_input_ids.unsqueeze(0), attention_mask)\n",
        "            predictions = torch.topk(outputs, top_k, dim=-1).indices\n",
        "\n",
        "            # Replace masked tokens\n",
        "            augmented_sentence = []\n",
        "            for idx, token in enumerate(masked_input_ids):\n",
        "                if token == bert_tokenizer.mask_token_id:\n",
        "                    replacement_token = random.choice(predictions[0, idx, :]).item()\n",
        "                    augmented_sentence.append(bert_tokenizer.decode([replacement_token]))\n",
        "                else:\n",
        "                    augmented_sentence.append(bert_tokenizer.decode([token.item()]))\n",
        "\n",
        "            augmented_texts.append(\" \".join(augmented_sentence))\n",
        "\n",
        "    print(\"Data augmentation complete.\")\n",
        "    print(\"Sample augmented sentences:\")\n",
        "    for i in range(3):\n",
        "        print(f\"Original: {texts[i]}\")\n",
        "        print(f\"Augmented: {augmented_texts[i]}\")\n",
        "    return augmented_texts\n",
        "\n",
        "# Perform augmentation\n",
        "augmented_texts = augment_data(texts, labels, lmlm_model)"
      ],
      "metadata": {
        "colab": {
          "base_uri": "https://localhost:8080/"
        },
        "id": "05LVgclr4nPX",
        "outputId": "e86c0e62-5864-418a-8bf8-7fdae31e9a81"
      },
      "execution_count": null,
      "outputs": [
        {
          "output_type": "stream",
          "name": "stdout",
          "text": [
            "Augmenting data...\n"
          ]
        },
        {
          "output_type": "stream",
          "name": "stderr",
          "text": [
            "100%|██████████| 2000/2000 [00:35<00:00, 55.84it/s]"
          ]
        },
        {
          "output_type": "stream",
          "name": "stdout",
          "text": [
            "Data augmentation complete.\n",
            "Sample augmented sentences:\n",
            "Original: klein , charming in comedies like american pie and dead-on in election , \n",
            "Augmented: [CLS] klein , charming political comedies like american pie and dead - on in election , [SEP] . [PAD] ! [PAD] [PAD] [PAD] [PAD] [PAD] [PAD] [PAD] [PAD] [PAD] [PAD] , . [PAD] [PAD] [PAD] [PAD] [PAD] [PAD] [PAD] [PAD] [PAD] ends [PAD] [PAD] [PAD] [PAD] [PAD] [PAD] [PAD] [PAD]\n",
            "Original: be fruitful \n",
            "Augmented: [CLS] be fruit ; [SEP] [PAD] [PAD] [PAD] [PAD] [PAD] [PAD] [PAD] [PAD] [PAD] [PAD] or [PAD] [PAD] ! [PAD] [PAD] [PAD] [PAD] [PAD] [PAD] [PAD] [PAD] [PAD] [PAD] [PAD] [PAD] be [PAD] [PAD] [PAD] [PAD] [PAD] [PAD] [PAD] [PAD] [PAD] or , [PAD] [PAD] and [PAD] [PAD] [PAD] [PAD]\n",
            "Original: soulful and \n",
            "Augmented: [CLS] soul ##ful ; [SEP] [PAD] [PAD] beautiful [PAD] [PAD] [PAD] [PAD] [PAD] [PAD] [PAD] [PAD] [PAD] [PAD] . [PAD] [PAD] [PAD] [PAD] [PAD] [PAD] [PAD] [PAD] ; . [PAD] [PAD] [PAD] [PAD] [PAD] [PAD] [PAD] [PAD] [PAD] . [PAD] , [PAD] [PAD] [PAD] [PAD] [PAD] [PAD] [PAD] [PAD] [PAD]\n"
          ]
        },
        {
          "output_type": "stream",
          "name": "stderr",
          "text": [
            "\n"
          ]
        }
      ]
    },
    {
      "cell_type": "code",
      "source": [
        "from sklearn.model_selection import train_test_split\n",
        "\n",
        "# Combine data\n",
        "combined_texts = list(texts) + augmented_texts\n",
        "combined_labels = torch.cat([labels_tensor, labels_tensor])\n",
        "\n",
        "# Train-validation split\n",
        "train_texts, val_texts, train_labels, val_labels = train_test_split(\n",
        "    combined_texts, combined_labels, test_size=0.2, random_state=42\n",
        ")\n",
        "\n",
        "print(f\"Training instances: {len(train_texts)}, Validation instances: {len(val_texts)}\")"
      ],
      "metadata": {
        "colab": {
          "base_uri": "https://localhost:8080/"
        },
        "id": "rN_vqGXS41S-",
        "outputId": "dea6aab4-2e69-46e5-93dd-e69c0756fe8d"
      },
      "execution_count": null,
      "outputs": [
        {
          "output_type": "stream",
          "name": "stdout",
          "text": [
            "Training instances: 3200, Validation instances: 800\n"
          ]
        }
      ]
    },
    {
      "cell_type": "code",
      "source": [
        "from transformers import BertForSequenceClassification\n",
        "\n",
        "# Load BERT for sequence classification\n",
        "classifier = BertForSequenceClassification.from_pretrained(\"bert-base-uncased\", num_labels=2)\n",
        "classifier.to(device)\n",
        "\n",
        "optimizer = torch.optim.Adam(classifier.parameters(), lr=1e-5)\n",
        "loss_fn = torch.nn.CrossEntropyLoss()\n",
        "\n",
        "print(\"Classifier Model Initialized.\")"
      ],
      "metadata": {
        "colab": {
          "base_uri": "https://localhost:8080/"
        },
        "id": "vHUpVK3l9IdZ",
        "outputId": "c6dfb605-292b-4de6-aacc-a5e65991da94"
      },
      "execution_count": null,
      "outputs": [
        {
          "output_type": "stream",
          "name": "stderr",
          "text": [
            "Some weights of BertForSequenceClassification were not initialized from the model checkpoint at bert-base-uncased and are newly initialized: ['classifier.bias', 'classifier.weight']\n",
            "You should probably TRAIN this model on a down-stream task to be able to use it for predictions and inference.\n"
          ]
        },
        {
          "output_type": "stream",
          "name": "stdout",
          "text": [
            "Classifier Model Initialized.\n"
          ]
        }
      ]
    },
    {
      "cell_type": "code",
      "source": [
        "from torch.utils.data import TensorDataset, DataLoader\n",
        "\n",
        "# Preprocess training data\n",
        "train_inputs = [preprocess_text(text) for text in train_texts]\n",
        "train_input_ids = torch.cat([x[\"input_ids\"] for x in train_inputs]).to(device)\n",
        "train_attention_mask = torch.cat([x[\"attention_mask\"] for x in train_inputs]).to(device)\n",
        "train_labels = train_labels[:len(train_texts)].to(device)\n",
        "\n",
        "train_dataset = TensorDataset(train_input_ids, train_attention_mask, train_labels)\n",
        "train_loader = DataLoader(train_dataset, batch_size=16, shuffle=True)\n",
        "\n",
        "# Training loop\n",
        "classifier.train()\n",
        "epochs = 10\n",
        "loss_values = []\n",
        "\n",
        "for epoch in range(epochs):\n",
        "    total_loss = 0\n",
        "    print(f\"Epoch {epoch + 1}\")\n",
        "\n",
        "    for batch in train_loader:\n",
        "        b_input_ids, b_attention_mask, b_labels = batch\n",
        "        b_input_ids = b_input_ids.to(device)\n",
        "        b_attention_mask = b_attention_mask.to(device)\n",
        "        b_labels = b_labels.to(device)\n",
        "\n",
        "        optimizer.zero_grad()\n",
        "\n",
        "        outputs = classifier(input_ids=b_input_ids, attention_mask=b_attention_mask, labels=b_labels)\n",
        "        loss = outputs.loss\n",
        "        total_loss += loss.item()\n",
        "\n",
        "        loss.backward()\n",
        "        optimizer.step()\n",
        "\n",
        "    avg_train_loss = total_loss / len(train_loader)\n",
        "    loss_values.append(avg_train_loss)\n",
        "    print(f\"Average Loss: {avg_train_loss:.4f}\")"
      ],
      "metadata": {
        "colab": {
          "base_uri": "https://localhost:8080/"
        },
        "id": "-DFMeYZW9TBP",
        "outputId": "eb5d6108-e761-43b5-9422-b994185fd837"
      },
      "execution_count": null,
      "outputs": [
        {
          "output_type": "stream",
          "name": "stdout",
          "text": [
            "Epoch 1\n",
            "Average Loss: 0.5785\n",
            "Epoch 2\n",
            "Average Loss: 0.3209\n",
            "Epoch 3\n",
            "Average Loss: 0.1885\n",
            "Epoch 4\n",
            "Average Loss: 0.1098\n",
            "Epoch 5\n",
            "Average Loss: 0.0614\n",
            "Epoch 6\n",
            "Average Loss: 0.0386\n",
            "Epoch 7\n",
            "Average Loss: 0.0294\n",
            "Epoch 8\n",
            "Average Loss: 0.0185\n",
            "Epoch 9\n",
            "Average Loss: 0.0122\n",
            "Epoch 10\n",
            "Average Loss: 0.0312\n"
          ]
        }
      ]
    },
    {
      "cell_type": "code",
      "source": [
        "import matplotlib.pyplot as plt\n",
        "\n",
        "# Plot the loss values\n",
        "plt.figure(figsize=(10, 6))\n",
        "plt.plot(range(1, epochs + 1), loss_values, marker='o', color='blue', label='Training Loss')\n",
        "plt.xlabel(\"Epochs\")\n",
        "plt.ylabel(\"Loss\")\n",
        "plt.title(\"Model Loss over Epochs\")\n",
        "plt.legend()\n",
        "plt.grid(alpha=0.3)\n",
        "plt.show()"
      ],
      "metadata": {
        "colab": {
          "base_uri": "https://localhost:8080/",
          "height": 564
        },
        "id": "WjfvpaS8OYh6",
        "outputId": "d660db3f-377c-42db-c1c4-00dc4c517e2d"
      },
      "execution_count": null,
      "outputs": [
        {
          "output_type": "display_data",
          "data": {
            "text/plain": [
              "<Figure size 1000x600 with 1 Axes>"
            ],
            "image/png": "[encoded data removed]"
          },
          "metadata": {}
        }
      ]
    },
    {
      "cell_type": "code",
      "source": [
        "from sklearn.metrics import accuracy_score, confusion_matrix, ConfusionMatrixDisplay\n",
        "\n",
        "# Prepare validation data\n",
        "val_inputs = [preprocess_text(text) for text in val_texts]\n",
        "val_input_ids = torch.cat([x[\"input_ids\"] for x in val_inputs]).to(device)\n",
        "val_attention_mask = torch.cat([x[\"attention_mask\"] for x in val_inputs]).to(device)\n",
        "val_labels = val_labels.to(device)\n",
        "\n",
        "val_dataset = TensorDataset(val_input_ids, val_attention_mask, val_labels)\n",
        "val_loader = DataLoader(val_dataset, batch_size=16, shuffle=False)\n",
        "\n",
        "# Evaluate\n",
        "classifier.eval()\n",
        "all_preds, all_labels = [], []\n",
        "with torch.no_grad():\n",
        "    for batch in val_loader:\n",
        "        b_input_ids, b_attention_mask, b_labels = batch\n",
        "        b_input_ids = b_input_ids.to(device)\n",
        "        b_attention_mask = b_attention_mask.to(device)\n",
        "        b_labels = b_labels.to(device)\n",
        "\n",
        "        outputs = classifier(input_ids=b_input_ids, attention_mask=b_attention_mask)\n",
        "        preds = torch.argmax(outputs.logits, dim=1)\n",
        "\n",
        "        all_preds.extend(preds.cpu().numpy())\n",
        "        all_labels.extend(b_labels.cpu().numpy())\n",
        "\n",
        "# Calculate accuracy\n",
        "accuracy = accuracy_score(all_labels, all_preds)\n",
        "print(f\"Validation Accuracy: {accuracy * 100:.2f}%\")\n",
        "\n",
        "# Confusion matrix\n",
        "cm = confusion_matrix(all_labels, all_preds)\n",
        "ConfusionMatrixDisplay(cm, display_labels=[\"Negative\", \"Positive\"]).plot(cmap=\"Blues\")\n",
        "plt.title(\"Confusion Matrix on Validation Set\")\n",
        "plt.show()"
      ],
      "metadata": {
        "colab": {
          "base_uri": "https://localhost:8080/",
          "height": 489
        },
        "id": "RLBQhaK_9YHO",
        "outputId": "1a74275f-3342-4427-c91a-9d8559ed1d21"
      },
      "execution_count": null,
      "outputs": [
        {
          "output_type": "stream",
          "name": "stdout",
          "text": [
            "Validation Accuracy: 91.50%\n"
          ]
        },
        {
          "output_type": "display_data",
          "data": {
            "text/plain": [
              "<Figure size 640x480 with 2 Axes>"
            ],
            "image/png": "[encoded data removed]"
          },
          "metadata": {}
        }
      ]
    }
  ]
}